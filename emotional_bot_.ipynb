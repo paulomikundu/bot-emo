{
  "cells": [
    {
      "cell_type": "markdown",
      "metadata": {
        "id": "view-in-github",
        "colab_type": "text"
      },
      "source": [
        "<a href=\"https://colab.research.google.com/github/paulomikundu/bot-emo/blob/main/emotional_bot_.ipynb\" target=\"_parent\"><img src=\"https://colab.research.google.com/assets/colab-badge.svg\" alt=\"Open In Colab\"/></a>"
      ]
    },
    {
      "cell_type": "code",
      "source": [
        "import nltk\n",
        "import pandas as pd\n",
        "from nltk.sentiment import SentimentIntensityAnalyzer\n",
        "from tensorflow.keras.preprocessing.text import Tokenizer\n",
        "from tensorflow.keras.preprocessing.sequence import pad_sequences\n",
        "import random\n",
        "import numpy as np\n",
        "from tensorflow import keras\n",
        "\n",
        "# Download VADER lexicon for sentiment analysis\n",
        "nltk.download('vader_lexicon')\n",
        "\n",
        "# Lists for responses\n",
        "ENCOURAGEMENTS = [\"Keep going!\", \"You’re on the right track!\", \"Believe in yourself!\"]\n",
        "COMPLIMENTS = [\"You're very insightful!\", \"You always know what to say!\", \"Your presence makes everything better!\"]\n",
        "ROMANTIC_RESPONSES = [\"You light up my world!\", \"I can't stop thinking about you!\", \"You're my one and only!\"]\n",
        "ADVICE = [\"Don't let small things bother you.\", \"Take time to relax.\", \"Find joy in the little things.\"]\n",
        "EMOTIONS = [\"neutral\", \"excitement\", \"anger\", \"sadness\", \"joy\", \"fear\"]\n",
        "\n",
        "class EmotionalChatbot:\n",
        "    def __init__(self, vocab_size=5000, max_len=20):\n",
        "        self.sentiment_analyzer = SentimentIntensityAnalyzer()\n",
        "        self.tokenizer = Tokenizer(num_words=vocab_size)\n",
        "        self.max_len = max_len\n",
        "        self.model = self.build_neural_network(vocab_size)\n",
        "        self.train_model()\n",
        "\n",
        "    def build_neural_network(self, vocab_size):\n",
        "        model = keras.Sequential([\n",
        "            keras.layers.Embedding(input_dim=vocab_size, output_dim=64, input_length=self.max_len),\n",
        "            keras.layers.LSTM(64, return_sequences=True),\n",
        "            keras.layers.LSTM(64),\n",
        "            keras.layers.Dense(32, activation='relu'),\n",
        "            keras.layers.Dense(len(EMOTIONS), activation='softmax')\n",
        "        ])\n",
        "        model.compile(optimizer='adam', loss='categorical_crossentropy', metrics=['accuracy'])\n",
        "        return model\n",
        "\n",
        "    def analyze_emotion(self, text):\n",
        "        sentiment_score = self.sentiment_analyzer.polarity_scores(text)['compound']\n",
        "        if sentiment_score >= 0.5:\n",
        "            return \"excitement\"\n",
        "        elif sentiment_score <= -0.5:\n",
        "            return \"anger\"\n",
        "        else:\n",
        "            return \"neutral\"\n",
        "\n",
        "    def get_encouragement(self):\n",
        "        return random.choice(ENCOURAGEMENTS)\n",
        "\n",
        "    def get_compliment(self):\n",
        "        return random.choice(COMPLIMENTS)\n",
        "\n",
        "    def get_romantic_response(self):\n",
        "        return random.choice(ROMANTIC_RESPONSES)\n",
        "\n",
        "    def provide_advice(self):\n",
        "        return random.choice(ADVICE)\n",
        "\n",
        "    def preprocess_input_data(self, message):\n",
        "        sequence = self.tokenizer.texts_to_sequences([message])\n",
        "        padded_sequence = pad_sequences(sequence, maxlen=self.max_len, padding='post')\n",
        "        return padded_sequence\n",
        "\n",
        "    def train_model(self):\n",
        "        # Load the dataset\n",
        "        try:\n",
        "            df = pd.read_csv('/content/test.txt', header=None, names=['text', 'label'])\n",
        "        except Exception as e:\n",
        "            print(f\"Error reading the dataset: {e}\")\n",
        "            return\n",
        "\n",
        "        # Clean and preprocess data\n",
        "        df.dropna(inplace=True)  # Drop any rows with NaN values\n",
        "        df['text'] = df['text'].astype(str).str.strip()  # Ensure text is a string\n",
        "        df['label'] = df['label'].astype(str).str.strip()  # Ensure label is a string\n",
        "        df = df[df['label'] != '']  # Keep only rows with non-empty labels\n",
        "\n",
        "        training_sentences = df['text'].values\n",
        "        training_labels = df['label'].values\n",
        "\n",
        "        # Ensure only valid labels are used\n",
        "        label_mapping = {emotion: idx for idx, emotion in enumerate(EMOTIONS)}\n",
        "        y_train = np.array([label_mapping[label] for label in training_labels if label in label_mapping])\n",
        "\n",
        "        if len(y_train) == 0:\n",
        "            print(\"No valid labels found in the training data.\")\n",
        "            return\n",
        "\n",
        "        self.tokenizer.fit_on_texts(training_sentences)\n",
        "        X_train = pad_sequences(self.tokenizer.texts_to_sequences(training_sentences), maxlen=self.max_len, padding='post')\n",
        "        y_train_categorical = keras.utils.to_categorical(y_train, num_classes=len(EMOTIONS))\n",
        "\n",
        "        self.model.fit(X_train, y_train_categorical, epochs=100, verbose=1)\n",
        "\n",
        "    def generate_response_with_neural_network(self, input_data):\n",
        "        output = self.model.predict(input_data)\n",
        "        emotion_idx = np.argmax(output)\n",
        "        return EMOTIONS[emotion_idx]\n",
        "\n",
        "    def respond_to_message(self, message):\n",
        "        emotion = self.analyze_emotion(message)\n",
        "        if emotion == \"excitement\":\n",
        "            return f\"Wow, that's exciting! {self.get_encouragement()} {self.get_romantic_response()}\"\n",
        "        elif emotion == \"anger\":\n",
        "            return \"I sense some frustration. Let's talk about it.\"\n",
        "        else:\n",
        "            preprocessed_input = self.preprocess_input_data(message)\n",
        "            neural_network_generated_response = self.generate_response_with_neural_network(preprocessed_input)\n",
        "            return (f\"Your words seem {neural_network_generated_response}. \"\n",
        "                    f\"{self.get_encouragement()} {self.get_compliment()} {self.get_romantic_response()} \"\n",
        "                    f\"Here's a piece of advice for you: {self.provide_advice()}\")\n",
        "\n",
        "# User input interaction\n",
        "if __name__ == \"__main__\":\n",
        "    bot = EmotionalChatbot()\n",
        "    while True:\n",
        "        user_input = input(\"You: \")\n",
        "        if user_input.lower() in [\"exit\", \"quit\"]:\n",
        "            break\n",
        "        response = bot.respond_to_message(user_input)\n",
        "        print(\"Bot:\", response)\n"
      ],
      "metadata": {
        "colab": {
          "base_uri": "https://localhost:8080/"
        },
        "id": "8j_fvBGaLc-Z",
        "outputId": "99a57214-776e-4d85-a1eb-c30bb28e1585"
      },
      "execution_count": null,
      "outputs": [
        {
          "metadata": {
            "tags": null
          },
          "name": "stderr",
          "output_type": "stream",
          "text": [
            "[nltk_data] Downloading package vader_lexicon to /root/nltk_data...\n",
            "[nltk_data]   Package vader_lexicon is already up-to-date!\n",
            "/usr/local/lib/python3.10/dist-packages/keras/src/layers/core/embedding.py:90: UserWarning: Argument `input_length` is deprecated. Just remove it.\n",
            "  warnings.warn(\n"
          ]
        },
        {
          "metadata": {
            "tags": null
          },
          "name": "stdout",
          "output_type": "stream",
          "text": [
            "No valid labels found in the training data.\n",
            "Bot: Wow, that's exciting! Keep going! I can't stop thinking about you!\n",
            "\u001b[1m1/1\u001b[0m \u001b[32m━━━━━━━━━━━━━━━━━━━━\u001b[0m\u001b[37m\u001b[0m \u001b[1m1s\u001b[0m 868ms/step\n",
            "Bot: Your words seem anger. You’re on the right track! You always know what to say! I can't stop thinking about you! Here's a piece of advice for you: Take time to relax.\n",
            "\u001b[1m1/1\u001b[0m \u001b[32m━━━━━━━━━━━━━━━━━━━━\u001b[0m\u001b[37m\u001b[0m \u001b[1m0s\u001b[0m 21ms/step\n",
            "Bot: Your words seem anger. Keep going! You're very insightful! You're my one and only! Here's a piece of advice for you: Find joy in the little things.\n",
            "Bot: Wow, that's exciting! You’re on the right track! You light up my world!\n"
          ]
        }
      ]
    }
  ],
  "metadata": {
    "colab": {
      "provenance": [],
      "authorship_tag": "ABX9TyMll6F7XBu3HRbBNy2KzUlL",
      "include_colab_link": true
    },
    "kernelspec": {
      "display_name": "Python 3",
      "name": "python3"
    },
    "language_info": {
      "name": "python"
    }
  },
  "nbformat": 4,
  "nbformat_minor": 0
}